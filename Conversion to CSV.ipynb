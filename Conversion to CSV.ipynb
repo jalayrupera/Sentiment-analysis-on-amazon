{
 "cells": [
  {
   "cell_type": "code",
   "execution_count": 4,
   "metadata": {},
   "outputs": [
    {
     "ename": "PermissionError",
     "evalue": "[Errno 13] Permission denied: '/stanford-sentiment-treebank.train.csv'",
     "output_type": "error",
     "traceback": [
      "\u001b[0;31m---------------------------------------------------------------------------\u001b[0m",
      "\u001b[0;31mPermissionError\u001b[0m                           Traceback (most recent call last)",
      "\u001b[0;32m<ipython-input-4-b8655c4f0b02>\u001b[0m in \u001b[0;36m<module>\u001b[0;34m\u001b[0m\n\u001b[1;32m     62\u001b[0m     \u001b[0mfilename\u001b[0m \u001b[0;34m=\u001b[0m \u001b[0mos\u001b[0m\u001b[0;34m.\u001b[0m\u001b[0mpath\u001b[0m\u001b[0;34m.\u001b[0m\u001b[0mjoin\u001b[0m\u001b[0;34m(\u001b[0m\u001b[0moutput_directory\u001b[0m\u001b[0;34m,\u001b[0m \u001b[0;34m\"stanford-sentiment-treebank.%s.csv\"\u001b[0m \u001b[0;34m%\u001b[0m \u001b[0msplit_name\u001b[0m\u001b[0;34m)\u001b[0m\u001b[0;34m\u001b[0m\u001b[0;34m\u001b[0m\u001b[0m\n\u001b[1;32m     63\u001b[0m     \u001b[0;32mdel\u001b[0m \u001b[0mpartition\u001b[0m\u001b[0;34m[\u001b[0m\u001b[0;34m\"splitset_label\"\u001b[0m\u001b[0;34m]\u001b[0m\u001b[0;34m\u001b[0m\u001b[0;34m\u001b[0m\u001b[0m\n\u001b[0;32m---> 64\u001b[0;31m     \u001b[0mpartition\u001b[0m\u001b[0;34m.\u001b[0m\u001b[0mto_csv\u001b[0m\u001b[0;34m(\u001b[0m\u001b[0mfilename\u001b[0m\u001b[0;34m)\u001b[0m\u001b[0;34m\u001b[0m\u001b[0;34m\u001b[0m\u001b[0m\n\u001b[0m",
      "\u001b[0;32m~/.local/lib/python3.8/site-packages/pandas/core/generic.py\u001b[0m in \u001b[0;36mto_csv\u001b[0;34m(self, path_or_buf, sep, na_rep, float_format, columns, header, index, index_label, mode, encoding, compression, quoting, quotechar, line_terminator, chunksize, date_format, doublequote, escapechar, decimal, errors)\u001b[0m\n\u001b[1;32m   3168\u001b[0m             \u001b[0mdecimal\u001b[0m\u001b[0;34m=\u001b[0m\u001b[0mdecimal\u001b[0m\u001b[0;34m,\u001b[0m\u001b[0;34m\u001b[0m\u001b[0;34m\u001b[0m\u001b[0m\n\u001b[1;32m   3169\u001b[0m         )\n\u001b[0;32m-> 3170\u001b[0;31m         \u001b[0mformatter\u001b[0m\u001b[0;34m.\u001b[0m\u001b[0msave\u001b[0m\u001b[0;34m(\u001b[0m\u001b[0;34m)\u001b[0m\u001b[0;34m\u001b[0m\u001b[0;34m\u001b[0m\u001b[0m\n\u001b[0m\u001b[1;32m   3171\u001b[0m \u001b[0;34m\u001b[0m\u001b[0m\n\u001b[1;32m   3172\u001b[0m         \u001b[0;32mif\u001b[0m \u001b[0mpath_or_buf\u001b[0m \u001b[0;32mis\u001b[0m \u001b[0;32mNone\u001b[0m\u001b[0;34m:\u001b[0m\u001b[0;34m\u001b[0m\u001b[0;34m\u001b[0m\u001b[0m\n",
      "\u001b[0;32m~/.local/lib/python3.8/site-packages/pandas/io/formats/csvs.py\u001b[0m in \u001b[0;36msave\u001b[0;34m(self)\u001b[0m\n\u001b[1;32m    183\u001b[0m             \u001b[0mclose\u001b[0m \u001b[0;34m=\u001b[0m \u001b[0;32mFalse\u001b[0m\u001b[0;34m\u001b[0m\u001b[0;34m\u001b[0m\u001b[0m\n\u001b[1;32m    184\u001b[0m         \u001b[0;32melse\u001b[0m\u001b[0;34m:\u001b[0m\u001b[0;34m\u001b[0m\u001b[0;34m\u001b[0m\u001b[0m\n\u001b[0;32m--> 185\u001b[0;31m             f, handles = get_handle(\n\u001b[0m\u001b[1;32m    186\u001b[0m                 \u001b[0mself\u001b[0m\u001b[0;34m.\u001b[0m\u001b[0mpath_or_buf\u001b[0m\u001b[0;34m,\u001b[0m\u001b[0;34m\u001b[0m\u001b[0;34m\u001b[0m\u001b[0m\n\u001b[1;32m    187\u001b[0m                 \u001b[0mself\u001b[0m\u001b[0;34m.\u001b[0m\u001b[0mmode\u001b[0m\u001b[0;34m,\u001b[0m\u001b[0;34m\u001b[0m\u001b[0;34m\u001b[0m\u001b[0m\n",
      "\u001b[0;32m~/.local/lib/python3.8/site-packages/pandas/io/common.py\u001b[0m in \u001b[0;36mget_handle\u001b[0;34m(path_or_buf, mode, encoding, compression, memory_map, is_text, errors)\u001b[0m\n\u001b[1;32m    491\u001b[0m         \u001b[0;32mif\u001b[0m \u001b[0mencoding\u001b[0m\u001b[0;34m:\u001b[0m\u001b[0;34m\u001b[0m\u001b[0;34m\u001b[0m\u001b[0m\n\u001b[1;32m    492\u001b[0m             \u001b[0;31m# Encoding\u001b[0m\u001b[0;34m\u001b[0m\u001b[0;34m\u001b[0m\u001b[0;34m\u001b[0m\u001b[0m\n\u001b[0;32m--> 493\u001b[0;31m             \u001b[0mf\u001b[0m \u001b[0;34m=\u001b[0m \u001b[0mopen\u001b[0m\u001b[0;34m(\u001b[0m\u001b[0mpath_or_buf\u001b[0m\u001b[0;34m,\u001b[0m \u001b[0mmode\u001b[0m\u001b[0;34m,\u001b[0m \u001b[0mencoding\u001b[0m\u001b[0;34m=\u001b[0m\u001b[0mencoding\u001b[0m\u001b[0;34m,\u001b[0m \u001b[0merrors\u001b[0m\u001b[0;34m=\u001b[0m\u001b[0merrors\u001b[0m\u001b[0;34m,\u001b[0m \u001b[0mnewline\u001b[0m\u001b[0;34m=\u001b[0m\u001b[0;34m\"\"\u001b[0m\u001b[0;34m)\u001b[0m\u001b[0;34m\u001b[0m\u001b[0;34m\u001b[0m\u001b[0m\n\u001b[0m\u001b[1;32m    494\u001b[0m         \u001b[0;32melif\u001b[0m \u001b[0mis_text\u001b[0m\u001b[0;34m:\u001b[0m\u001b[0;34m\u001b[0m\u001b[0;34m\u001b[0m\u001b[0m\n\u001b[1;32m    495\u001b[0m             \u001b[0;31m# No explicit encoding\u001b[0m\u001b[0;34m\u001b[0m\u001b[0;34m\u001b[0m\u001b[0;34m\u001b[0m\u001b[0m\n",
      "\u001b[0;31mPermissionError\u001b[0m: [Errno 13] Permission denied: '/stanford-sentiment-treebank.train.csv'"
     ]
    }
   ],
   "source": [
    "\"\"\"\n",
    "Put all the Stanford Sentiment Treebank phrase data into test, training, and dev CSVs.\n",
    "Socher, R., Perelygin, A., Wu, J. Y., Chuang, J., Manning, C. D., Ng, A. Y., & Potts, C. (2013). Recursive Deep Models\n",
    "for Semantic Compositionality Over a Sentiment Treebank. Presented at the Conference on Empirical Methods in Natural\n",
    "Language Processing EMNLP.\n",
    "https://nlp.stanford.edu/sentiment/\n",
    "\"\"\"\n",
    "\n",
    "import os\n",
    "import sys\n",
    "\n",
    "import pandas\n",
    "\n",
    "\n",
    "def get_phrase_sentiments(base_directory):\n",
    "    def group_labels(label):\n",
    "        if label in [\"very negative\", \"negative\"]:\n",
    "            return \"negative\"\n",
    "        elif label in [\"positive\", \"very positive\"]:\n",
    "            return \"positive\"\n",
    "        else:\n",
    "            return \"neutral\"\n",
    "\n",
    "    dictionary = pandas.read_csv(os.path.join(base_directory, \"dictionary.txt\"), sep=\"|\")\n",
    "    dictionary.columns = [\"phrase\", \"id\"]\n",
    "    dictionary = dictionary.set_index(\"id\")\n",
    "\n",
    "    sentiment_labels = pandas.read_csv(os.path.join(base_directory, \"sentiment_labels.txt\"), sep=\"|\")\n",
    "    sentiment_labels.columns = [\"id\", \"sentiment\"]\n",
    "    sentiment_labels = sentiment_labels.set_index(\"id\")\n",
    "\n",
    "    phrase_sentiments = dictionary.join(sentiment_labels)\n",
    "\n",
    "    phrase_sentiments[\"fine\"] = pandas.cut(phrase_sentiments.sentiment, [0, 0.2, 0.4, 0.6, 0.8, 1.0],\n",
    "                                           include_lowest=True,\n",
    "                                           labels=[\"very negative\", \"negative\", \"neutral\", \"positive\", \"very positive\"])\n",
    "    phrase_sentiments[\"coarse\"] = phrase_sentiments.fine.apply(group_labels)\n",
    "    return phrase_sentiments\n",
    "\n",
    "\n",
    "def get_sentence_partitions(base_directory):\n",
    "    sentences = pandas.read_csv(os.path.join(base_directory, \"datasetSentences.txt\"), index_col=\"sentence_index\",\n",
    "                                sep=\"\\t\")\n",
    "    splits = pandas.read_csv(os.path.join(base_directory, \"datasetSplit.txt\"), index_col=\"sentence_index\")\n",
    "    return sentences.join(splits).set_index(\"sentence\")\n",
    "\n",
    "\n",
    "def partition(base_directory):\n",
    "    phrase_sentiments = get_phrase_sentiments(base_directory)\n",
    "    sentence_partitions = get_sentence_partitions(base_directory)\n",
    "    # noinspection PyUnresolvedReferences\n",
    "    data = phrase_sentiments.join(sentence_partitions, on=\"phrase\")\n",
    "    data[\"splitset_label\"] = data[\"splitset_label\"].fillna(1).astype(int)\n",
    "    data[\"phrase\"] = data[\"phrase\"].str.replace(r\"\\s('s|'d|'re|'ll|'m|'ve|n't)\\b\", lambda m: m.group(1))\n",
    "    return data.groupby(\"splitset_label\")\n",
    "\n",
    "\n",
    "base_directory, output_directory = \"./\"\n",
    "os.makedirs(output_directory, exist_ok=True)\n",
    "for splitset, partition in partition(base_directory):\n",
    "    split_name = {1: \"train\", 2: \"test\", 3: \"dev\"}[splitset]\n",
    "    filename = os.path.join(output_directory, \"stanford-sentiment-treebank.%s.csv\" % split_name)\n",
    "    del partition[\"splitset_label\"]\n",
    "    partition.to_csv(filename)"
   ]
  },
  {
   "cell_type": "code",
   "execution_count": null,
   "metadata": {},
   "outputs": [],
   "source": []
  }
 ],
 "metadata": {
  "kernelspec": {
   "display_name": "Python 3",
   "language": "python",
   "name": "python3"
  },
  "language_info": {
   "codemirror_mode": {
    "name": "ipython",
    "version": 3
   },
   "file_extension": ".py",
   "mimetype": "text/x-python",
   "name": "python",
   "nbconvert_exporter": "python",
   "pygments_lexer": "ipython3",
   "version": "3.8.5"
  }
 },
 "nbformat": 4,
 "nbformat_minor": 4
}
